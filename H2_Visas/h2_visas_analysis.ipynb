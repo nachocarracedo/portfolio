{
 "cells": [
  {
   "cell_type": "markdown",
   "metadata": {},
   "source": [
    "# H2 VISAS\n",
    "\n",
    "This notebook explores the dataset of H2 visa applications (https://github.com/BuzzFeedNews/H-2-certification-data#standardized-data). \n",
    "\n",
    "The U.S. Department of Labor releases this data as Excel (.XLS) files and BuzzFeed News has been tracking and hosting these datasets on Github. The dataset has data from fiscal year 2000 till 2016, this notebook will only take into account the data from fiscal year 2010 to 2016 (which only goes to March 31st)\n",
    "\n",
    "There are 2 types of H2 Visas:\n",
    "\n",
    "* H2-A: Allows foreign agricultural workers with a job offer for seasonal agricultural work in the US (https://www.uscis.gov/working-united-states/temporary-workers/h-2a-temporary-agricultural-workers)\n",
    "\n",
    "* H2-B: Allows U.S. employers or U.S. agents who meet specific regulatory requirements to bring foreign nationals to the United States to fill temporary nonagricultural jobs (https://www.uscis.gov/working-united-states/temporary-workers/h-2b-temporary-non-agricultural-workers)\n",
    "\n",
    "There are some predefined questions I'm looking to answer on this notebook:\n",
    "\n",
    "* How application status have change over time\n",
    "* How has the number of approved workers changed over time?\n",
    "* How has the number of approved workers changed over time?\n",
    "* Which states request the most visas and how has this changed over time?"
   ]
  },
  {
   "cell_type": "markdown",
   "metadata": {},
   "source": [
    "**Index:**\n",
    "\n",
    "1. Load data, first look\n",
    "2. Filter by fiscal year\n",
    "3. Duplicates \n",
    "4. Data cleaning (for each column)\n",
    "* \n",
    "* \n",
    "* \n",
    "* \n",
    "* \n",
    "* \n",
    "* \n",
    "* \n",
    "* \n",
    "* \n"
   ]
  },
  {
   "cell_type": "markdown",
   "metadata": {},
   "source": [
    "### 1. Load data, first look"
   ]
  },
  {
   "cell_type": "code",
   "execution_count": 1,
   "metadata": {
    "collapsed": false
   },
   "outputs": [],
   "source": [
    "#imports\n",
    "import numpy as np\n",
    "import pandas as pd\n",
    "import matplotlib.pyplot as plt\n",
    "import missingno as msno\n",
    "import vincent\n",
    "%matplotlib inline\n",
    "plt.style.use('fivethirtyeight')\n",
    "\n",
    "# load data\n",
    "h2visas_df = pd.read_csv(\".\\\\datasets\\\\H-2-certification-decisions.csv\", low_memory=False)"
   ]
  },
  {
   "cell_type": "markdown",
   "metadata": {},
   "source": [
    "First, we check the number of columns, the names of these, and we print the first few rows of the data set to get an idea of how it looks like"
   ]
  },
  {
   "cell_type": "code",
   "execution_count": 2,
   "metadata": {
    "collapsed": false
   },
   "outputs": [
    {
     "name": "stdout",
     "output_type": "stream",
     "text": [
      "Number of columns/rows:\n",
      "(213155, 22)\n",
      "-------------------\n",
      "Columns:\n",
      "Index(['case_no', 'visa_type', 'fy', 'last_event_date', 'case_status',\n",
      "       'n_requested', 'n_certified', 'is_certified',\n",
      "       'certification_begin_date', 'certification_end_date', 'job_title',\n",
      "       'employer_name', 'employer_state', 'employer_city',\n",
      "       'employer_address_1', 'employer_address_2', 'employer_postal_code',\n",
      "       'worksite_state', 'worksite_city', 'agent_name', 'organization_flag',\n",
      "       'is_duplicate'],\n",
      "      dtype='object')\n"
     ]
    },
    {
     "data": {
      "text/html": [
       "<div>\n",
       "<table border=\"1\" class=\"dataframe\">\n",
       "  <thead>\n",
       "    <tr style=\"text-align: right;\">\n",
       "      <th></th>\n",
       "      <th>case_no</th>\n",
       "      <th>visa_type</th>\n",
       "      <th>fy</th>\n",
       "      <th>last_event_date</th>\n",
       "      <th>case_status</th>\n",
       "      <th>n_requested</th>\n",
       "      <th>n_certified</th>\n",
       "      <th>is_certified</th>\n",
       "      <th>certification_begin_date</th>\n",
       "      <th>certification_end_date</th>\n",
       "      <th>...</th>\n",
       "      <th>employer_state</th>\n",
       "      <th>employer_city</th>\n",
       "      <th>employer_address_1</th>\n",
       "      <th>employer_address_2</th>\n",
       "      <th>employer_postal_code</th>\n",
       "      <th>worksite_state</th>\n",
       "      <th>worksite_city</th>\n",
       "      <th>agent_name</th>\n",
       "      <th>organization_flag</th>\n",
       "      <th>is_duplicate</th>\n",
       "    </tr>\n",
       "  </thead>\n",
       "  <tbody>\n",
       "    <tr>\n",
       "      <th>0</th>\n",
       "      <td>9455254</td>\n",
       "      <td>H-2B</td>\n",
       "      <td>2000</td>\n",
       "      <td>1999-10-01</td>\n",
       "      <td>DENIED, TEMPORARY</td>\n",
       "      <td>1.0</td>\n",
       "      <td>0</td>\n",
       "      <td>False</td>\n",
       "      <td>NaN</td>\n",
       "      <td>NaN</td>\n",
       "      <td>...</td>\n",
       "      <td>CA</td>\n",
       "      <td>LOS ANGELES</td>\n",
       "      <td>NaN</td>\n",
       "      <td>NaN</td>\n",
       "      <td>NaN</td>\n",
       "      <td>NaN</td>\n",
       "      <td>NaN</td>\n",
       "      <td>NaN</td>\n",
       "      <td>NaN</td>\n",
       "      <td>NaN</td>\n",
       "    </tr>\n",
       "    <tr>\n",
       "      <th>1</th>\n",
       "      <td>8222219</td>\n",
       "      <td>H-2B</td>\n",
       "      <td>2000</td>\n",
       "      <td>1999-10-04</td>\n",
       "      <td>CERTIFIED, TEMPORARY</td>\n",
       "      <td>2.0</td>\n",
       "      <td>2</td>\n",
       "      <td>True</td>\n",
       "      <td>NaN</td>\n",
       "      <td>NaN</td>\n",
       "      <td>...</td>\n",
       "      <td>CO</td>\n",
       "      <td>BEAVER CREEK</td>\n",
       "      <td>NaN</td>\n",
       "      <td>NaN</td>\n",
       "      <td>NaN</td>\n",
       "      <td>NaN</td>\n",
       "      <td>NaN</td>\n",
       "      <td>NaN</td>\n",
       "      <td>NaN</td>\n",
       "      <td>NaN</td>\n",
       "    </tr>\n",
       "    <tr>\n",
       "      <th>2</th>\n",
       "      <td>8222168</td>\n",
       "      <td>H-2B</td>\n",
       "      <td>2000</td>\n",
       "      <td>1999-10-04</td>\n",
       "      <td>CERTIFIED, TEMPORARY</td>\n",
       "      <td>2.0</td>\n",
       "      <td>2</td>\n",
       "      <td>True</td>\n",
       "      <td>NaN</td>\n",
       "      <td>NaN</td>\n",
       "      <td>...</td>\n",
       "      <td>CO</td>\n",
       "      <td>MT. CRESTED BUTTE</td>\n",
       "      <td>NaN</td>\n",
       "      <td>NaN</td>\n",
       "      <td>NaN</td>\n",
       "      <td>NaN</td>\n",
       "      <td>NaN</td>\n",
       "      <td>NaN</td>\n",
       "      <td>NaN</td>\n",
       "      <td>NaN</td>\n",
       "    </tr>\n",
       "    <tr>\n",
       "      <th>3</th>\n",
       "      <td>8222169</td>\n",
       "      <td>H-2B</td>\n",
       "      <td>2000</td>\n",
       "      <td>1999-10-04</td>\n",
       "      <td>CERTIFIED, TEMPORARY</td>\n",
       "      <td>5.0</td>\n",
       "      <td>5</td>\n",
       "      <td>True</td>\n",
       "      <td>NaN</td>\n",
       "      <td>NaN</td>\n",
       "      <td>...</td>\n",
       "      <td>CO</td>\n",
       "      <td>MT. CRESTED BUTTE</td>\n",
       "      <td>NaN</td>\n",
       "      <td>NaN</td>\n",
       "      <td>NaN</td>\n",
       "      <td>NaN</td>\n",
       "      <td>NaN</td>\n",
       "      <td>NaN</td>\n",
       "      <td>NaN</td>\n",
       "      <td>NaN</td>\n",
       "    </tr>\n",
       "  </tbody>\n",
       "</table>\n",
       "<p>4 rows × 22 columns</p>\n",
       "</div>"
      ],
      "text/plain": [
       "   case_no visa_type    fy last_event_date           case_status  n_requested  \\\n",
       "0  9455254      H-2B  2000      1999-10-01     DENIED, TEMPORARY          1.0   \n",
       "1  8222219      H-2B  2000      1999-10-04  CERTIFIED, TEMPORARY          2.0   \n",
       "2  8222168      H-2B  2000      1999-10-04  CERTIFIED, TEMPORARY          2.0   \n",
       "3  8222169      H-2B  2000      1999-10-04  CERTIFIED, TEMPORARY          5.0   \n",
       "\n",
       "   n_certified is_certified certification_begin_date certification_end_date  \\\n",
       "0            0        False                      NaN                    NaN   \n",
       "1            2         True                      NaN                    NaN   \n",
       "2            2         True                      NaN                    NaN   \n",
       "3            5         True                      NaN                    NaN   \n",
       "\n",
       "      ...      employer_state      employer_city employer_address_1  \\\n",
       "0     ...                  CA        LOS ANGELES                NaN   \n",
       "1     ...                  CO       BEAVER CREEK                NaN   \n",
       "2     ...                  CO  MT. CRESTED BUTTE                NaN   \n",
       "3     ...                  CO  MT. CRESTED BUTTE                NaN   \n",
       "\n",
       "  employer_address_2 employer_postal_code worksite_state worksite_city  \\\n",
       "0                NaN                  NaN            NaN           NaN   \n",
       "1                NaN                  NaN            NaN           NaN   \n",
       "2                NaN                  NaN            NaN           NaN   \n",
       "3                NaN                  NaN            NaN           NaN   \n",
       "\n",
       "  agent_name organization_flag is_duplicate  \n",
       "0        NaN               NaN          NaN  \n",
       "1        NaN               NaN          NaN  \n",
       "2        NaN               NaN          NaN  \n",
       "3        NaN               NaN          NaN  \n",
       "\n",
       "[4 rows x 22 columns]"
      ]
     },
     "execution_count": 2,
     "metadata": {},
     "output_type": "execute_result"
    }
   ],
   "source": [
    "# shape and column names\n",
    "print(\"Number of columns/rows:\")\n",
    "print(h2visas_df.shape)\n",
    "print(\"-------------------\\nColumns:\")\n",
    "print(h2visas_df.columns)\n",
    "h2visas_df.head(4)"
   ]
  },
  {
   "cell_type": "markdown",
   "metadata": {
    "collapsed": false
   },
   "source": [
    "Other important features to check are the column types, and the number of missing values. For missing values I'll use a new library that visualizes them, this will allow us to see where the missing values are located."
   ]
  },
  {
   "cell_type": "code",
   "execution_count": null,
   "metadata": {
    "collapsed": false
   },
   "outputs": [
    {
     "name": "stdout",
     "output_type": "stream",
     "text": [
      "------ Column types:\n",
      "<class 'pandas.core.frame.DataFrame'>\n",
      "RangeIndex: 213155 entries, 0 to 213154\n",
      "Data columns (total 22 columns):\n",
      "case_no                     213155 non-null object\n",
      "visa_type                   213155 non-null object\n",
      "fy                          213155 non-null int64\n",
      "last_event_date             205686 non-null object\n",
      "case_status                 213155 non-null object\n",
      "n_requested                 141512 non-null float64\n",
      "n_certified                 213155 non-null int64\n",
      "is_certified                213155 non-null bool\n",
      "certification_begin_date    155351 non-null object\n",
      "certification_end_date      155342 non-null object\n",
      "job_title                   212671 non-null object\n",
      "employer_name               213133 non-null object\n",
      "employer_state              213029 non-null object\n",
      "employer_city               213076 non-null object\n",
      "employer_address_1          169205 non-null object\n",
      "employer_address_2          21596 non-null object\n",
      "employer_postal_code        168879 non-null object\n",
      "worksite_state              150084 non-null object\n",
      "worksite_city               81980 non-null object\n",
      "agent_name                  155934 non-null object\n",
      "organization_flag           47122 non-null object\n",
      "is_duplicate                75284 non-null object\n",
      "dtypes: bool(1), float64(1), int64(2), object(18)\n",
      "memory usage: 34.4+ MB\n",
      "None\n",
      "\n",
      "----------------------------------\n",
      "\n",
      "------ Missing values:\n",
      "case_no                          0\n",
      "visa_type                        0\n",
      "fy                               0\n",
      "last_event_date               7469\n",
      "case_status                      0\n",
      "n_requested                  71643\n",
      "n_certified                      0\n",
      "is_certified                     0\n",
      "certification_begin_date     57804\n",
      "certification_end_date       57813\n",
      "job_title                      484\n",
      "employer_name                   22\n",
      "employer_state                 126\n",
      "employer_city                   79\n",
      "employer_address_1           43950\n",
      "employer_address_2          191559\n",
      "employer_postal_code         44276\n",
      "worksite_state               63071\n",
      "worksite_city               131175\n",
      "agent_name                   57221\n",
      "organization_flag           166033\n",
      "is_duplicate                137871\n",
      "dtype: int64\n"
     ]
    }
   ],
   "source": [
    "#column types\n",
    "print('------ Column types:')\n",
    "print(h2visas_df.info())\n",
    "\n",
    "print('\\n----------------------------------\\n')\n",
    "\n",
    "# number of nulls per column\n",
    "print('------ Missing values:')\n",
    "print(h2visas_df.isnull().sum())"
   ]
  },
  {
   "cell_type": "code",
   "execution_count": null,
   "metadata": {
    "collapsed": false,
    "scrolled": false
   },
   "outputs": [],
   "source": [
    "msno.matrix(h2visas_df)"
   ]
  },
  {
   "cell_type": "markdown",
   "metadata": {},
   "source": [
    "Most `NaN` values are at the beginning of the data set, and we know the rows are sorted by date so analyzing years from 2010 onward will get rid of many missing values. "
   ]
  },
  {
   "cell_type": "markdown",
   "metadata": {},
   "source": [
    "To end this part we check how many visas of each kind we have"
   ]
  },
  {
   "cell_type": "code",
   "execution_count": null,
   "metadata": {
    "collapsed": false
   },
   "outputs": [],
   "source": [
    "print(h2visas_df.visa_type.value_counts())\n",
    "h2visas_df.visa_type.value_counts().plot.bar()\n",
    "plt.title(\"H2 Visas - types\")\n",
    "plt.xticks(rotation='horizontal', size=15)\n",
    "plt.show()"
   ]
  },
  {
   "cell_type": "markdown",
   "metadata": {},
   "source": [
    "As we can see there are more H-2B visas than H-2A visas"
   ]
  },
  {
   "cell_type": "markdown",
   "metadata": {},
   "source": [
    "### 2. Filter by fiscal year\n",
    "\n",
    "I'll work from data starting October 1, 2010 to March 31, 2016. Which means fiscal year of 2011 in advance"
   ]
  },
  {
   "cell_type": "code",
   "execution_count": null,
   "metadata": {
    "collapsed": true
   },
   "outputs": [],
   "source": [
    "h2visas_df = h2visas_df[h2visas_df[\"fy\"] >= 2011]"
   ]
  },
  {
   "cell_type": "markdown",
   "metadata": {},
   "source": [
    "Let's visualize the NaN values and check for types of Visasagain:"
   ]
  },
  {
   "cell_type": "code",
   "execution_count": null,
   "metadata": {
    "collapsed": false
   },
   "outputs": [],
   "source": [
    "msno.matrix(h2visas_df)"
   ]
  },
  {
   "cell_type": "code",
   "execution_count": null,
   "metadata": {
    "collapsed": false
   },
   "outputs": [],
   "source": [
    "print(h2visas_df.visa_type.value_counts())\n",
    "h2visas_df.visa_type.value_counts().plot.bar()\n",
    "plt.title(\"H2 Visas - types\")\n",
    "plt.xticks(rotation='horizontal', size=15)\n",
    "plt.show()"
   ]
  },
  {
   "cell_type": "markdown",
   "metadata": {},
   "source": [
    "### 3. Duplicates\n",
    "\n",
    "There is a column that tells us if a entry is a duplicate. Let's see if we the dataset comes with any duplicates and to which kind of visa they belong"
   ]
  },
  {
   "cell_type": "code",
   "execution_count": null,
   "metadata": {
    "collapsed": false
   },
   "outputs": [],
   "source": [
    "h2visas_df['visa_type'][h2visas_df['is_duplicate'] == True].value_counts()"
   ]
  },
  {
   "cell_type": "markdown",
   "metadata": {},
   "source": [
    "All duplicates are visas H-2A "
   ]
  },
  {
   "cell_type": "markdown",
   "metadata": {},
   "source": [
    "If we examined the data closer we see that 'case_no' also has duplicates for H-2B visas:"
   ]
  },
  {
   "cell_type": "code",
   "execution_count": 10,
   "metadata": {
    "collapsed": false
   },
   "outputs": [
    {
     "data": {
      "image/png": "[encoded data removed]",
      "text/plain": [
       "<matplotlib.figure.Figure at 0x1e694136438>"
      ]
     },
     "metadata": {},
     "output_type": "display_data"
    },
    {
     "name": "stdout",
     "output_type": "stream",
     "text": [
      "\n",
      "-------------------------\n",
      "Example of H-2B duplicate:\n"
     ]
    },
    {
     "data": {
      "text/html": [
       "<div>\n",
       "<table border=\"1\" class=\"dataframe\">\n",
       "  <thead>\n",
       "    <tr style=\"text-align: right;\">\n",
       "      <th></th>\n",
       "      <th>case_no</th>\n",
       "      <th>visa_type</th>\n",
       "      <th>fy</th>\n",
       "      <th>last_event_date</th>\n",
       "      <th>case_status</th>\n",
       "      <th>n_requested</th>\n",
       "      <th>n_certified</th>\n",
       "      <th>is_certified</th>\n",
       "      <th>certification_begin_date</th>\n",
       "      <th>certification_end_date</th>\n",
       "      <th>...</th>\n",
       "      <th>employer_state</th>\n",
       "      <th>employer_city</th>\n",
       "      <th>employer_address_1</th>\n",
       "      <th>employer_address_2</th>\n",
       "      <th>employer_postal_code</th>\n",
       "      <th>worksite_state</th>\n",
       "      <th>worksite_city</th>\n",
       "      <th>agent_name</th>\n",
       "      <th>organization_flag</th>\n",
       "      <th>is_duplicate</th>\n",
       "    </tr>\n",
       "  </thead>\n",
       "  <tbody>\n",
       "    <tr>\n",
       "      <th>200324</th>\n",
       "      <td>H-400-15155-885907</td>\n",
       "      <td>H-2B</td>\n",
       "      <td>2015</td>\n",
       "      <td>2015-07-28</td>\n",
       "      <td>CERTIFICATION</td>\n",
       "      <td>14.0</td>\n",
       "      <td>14</td>\n",
       "      <td>True</td>\n",
       "      <td>2015-08-03</td>\n",
       "      <td>2015-11-01</td>\n",
       "      <td>...</td>\n",
       "      <td>NJ</td>\n",
       "      <td>CHESTER</td>\n",
       "      <td>1 ALSTEDE FARMS LANE</td>\n",
       "      <td>MAILING: PO BOX 278, CHESTER, NJ 07930</td>\n",
       "      <td>07930</td>\n",
       "      <td>NJ</td>\n",
       "      <td>NaN</td>\n",
       "      <td>FEDERATION OF EMPLOYERS AND WORKERS OF AMERICA...</td>\n",
       "      <td>NaN</td>\n",
       "      <td>NaN</td>\n",
       "    </tr>\n",
       "    <tr>\n",
       "      <th>208692</th>\n",
       "      <td>H-400-15155-885907</td>\n",
       "      <td>H-2B</td>\n",
       "      <td>2016</td>\n",
       "      <td>2015-10-20</td>\n",
       "      <td>WITHDRAWN</td>\n",
       "      <td>14.0</td>\n",
       "      <td>0</td>\n",
       "      <td>False</td>\n",
       "      <td>2015-08-03</td>\n",
       "      <td>2015-11-01</td>\n",
       "      <td>...</td>\n",
       "      <td>NJ</td>\n",
       "      <td>CHESTER</td>\n",
       "      <td>1 ALSTEDE FARMS LANE</td>\n",
       "      <td>MAILING: PO BOX 278, CHESTER, NJ 07930</td>\n",
       "      <td>7930.0</td>\n",
       "      <td>NJ</td>\n",
       "      <td>NaN</td>\n",
       "      <td>FEDERATION OF EMPLOYERS AND WORKERS OF AMERICA...</td>\n",
       "      <td>NaN</td>\n",
       "      <td>NaN</td>\n",
       "    </tr>\n",
       "    <tr>\n",
       "      <th>208720</th>\n",
       "      <td>H-400-15155-885907</td>\n",
       "      <td>H-2B</td>\n",
       "      <td>2016</td>\n",
       "      <td>2015-10-20</td>\n",
       "      <td>WITHDRAWN</td>\n",
       "      <td>NaN</td>\n",
       "      <td>0</td>\n",
       "      <td>False</td>\n",
       "      <td>2015-08-03</td>\n",
       "      <td>2015-11-01</td>\n",
       "      <td>...</td>\n",
       "      <td>NJ</td>\n",
       "      <td>CHESTER</td>\n",
       "      <td>1 ALSTEDE FARMS LANE</td>\n",
       "      <td>MAILING: PO BOX 278, CHESTER, NJ 07930</td>\n",
       "      <td>7930</td>\n",
       "      <td>NJ</td>\n",
       "      <td>Chester</td>\n",
       "      <td>FEDERATION OF EMPLOYERS AND WORKERS OF AMERICA...</td>\n",
       "      <td>NaN</td>\n",
       "      <td>NaN</td>\n",
       "    </tr>\n",
       "  </tbody>\n",
       "</table>\n",
       "<p>3 rows × 22 columns</p>\n",
       "</div>"
      ],
      "text/plain": [
       "                   case_no visa_type    fy last_event_date    case_status  \\\n",
       "200324  H-400-15155-885907      H-2B  2015      2015-07-28  CERTIFICATION   \n",
       "208692  H-400-15155-885907      H-2B  2016      2015-10-20      WITHDRAWN   \n",
       "208720  H-400-15155-885907      H-2B  2016      2015-10-20      WITHDRAWN   \n",
       "\n",
       "        n_requested  n_certified is_certified certification_begin_date  \\\n",
       "200324         14.0           14         True               2015-08-03   \n",
       "208692         14.0            0        False               2015-08-03   \n",
       "208720          NaN            0        False               2015-08-03   \n",
       "\n",
       "       certification_end_date     ...      employer_state employer_city  \\\n",
       "200324             2015-11-01     ...                  NJ       CHESTER   \n",
       "208692             2015-11-01     ...                  NJ       CHESTER   \n",
       "208720             2015-11-01     ...                  NJ       CHESTER   \n",
       "\n",
       "          employer_address_1                      employer_address_2  \\\n",
       "200324  1 ALSTEDE FARMS LANE  MAILING: PO BOX 278, CHESTER, NJ 07930   \n",
       "208692  1 ALSTEDE FARMS LANE  MAILING: PO BOX 278, CHESTER, NJ 07930   \n",
       "208720  1 ALSTEDE FARMS LANE  MAILING: PO BOX 278, CHESTER, NJ 07930   \n",
       "\n",
       "       employer_postal_code worksite_state worksite_city  \\\n",
       "200324                07930             NJ           NaN   \n",
       "208692               7930.0             NJ           NaN   \n",
       "208720                 7930             NJ       Chester   \n",
       "\n",
       "                                               agent_name organization_flag  \\\n",
       "200324  FEDERATION OF EMPLOYERS AND WORKERS OF AMERICA...               NaN   \n",
       "208692  FEDERATION OF EMPLOYERS AND WORKERS OF AMERICA...               NaN   \n",
       "208720  FEDERATION OF EMPLOYERS AND WORKERS OF AMERICA...               NaN   \n",
       "\n",
       "       is_duplicate  \n",
       "200324          NaN  \n",
       "208692          NaN  \n",
       "208720          NaN  \n",
       "\n",
       "[3 rows x 22 columns]"
      ]
     },
     "execution_count": 10,
     "metadata": {},
     "output_type": "execute_result"
    }
   ],
   "source": [
    "h2visas_df['visa_type'][h2visas_df.duplicated('case_no')].value_counts().plot(kind='bar')\n",
    "plt.xticks(rotation='horizontal',size=15)\n",
    "plt.title(\"Number of duplicates by case_no\",size=15)\n",
    "plt.show()\n",
    "\n",
    "print(\"\\n-------------------------\")\n",
    "print(\"Example of H-2B duplicate:\")\n",
    "h2visas_df[h2visas_df['case_no']=='H-400-15155-885907']"
   ]
  },
  {
   "cell_type": "markdown",
   "metadata": {},
   "source": [
    "This makes sense though, here is the description of the `is_duplicate` field:\n",
    "\n",
    "*This derived value will be  True  — indicating that this row corresponds a sub-application of a joint employer's \"master application\" — if (a)  visa_type  is \"H-2A\", (b) the  organization_flag  is blank, and (c) comes from fiscal year 2008 or later. H-2A data from FY 2006 and FY 2007 do not contain a  organization_flag  field. For these records, and H-2B records,  is_duplicate  will be  null*\n",
    "\n",
    "Let's get rid of H-2A duplicates and also get rid of H-2B duplicates"
   ]
  },
  {
   "cell_type": "code",
   "execution_count": 13,
   "metadata": {
    "collapsed": false,
    "scrolled": true
   },
   "outputs": [],
   "source": [
    "# split visas\n",
    "h2visasA_df = h2visas_df[h2visas_df['visa_type']== 'H-2A']\n",
    "h2visasB_df = h2visas_df[h2visas_df['visa_type']== 'H-2B']\n",
    "# delete duplicates\n",
    "h2visasA_df = h2visasA_df[h2visasA_df['is_duplicate']==True]\n",
    "h2visasB_df = h2visasB_df.drop_duplicates('case_no','first')\n",
    "# concatenate \n",
    "h2visas_df = pd.concat([h2visasA_df,h2visasB_df])"
   ]
  },
  {
   "cell_type": "markdown",
   "metadata": {},
   "source": [
    "### 4. Data cleaning (for each column)"
   ]
  },
  {
   "cell_type": "markdown",
   "metadata": {},
   "source": [
    "### 4.1 visa_type"
   ]
  },
  {
   "cell_type": "code",
   "execution_count": 17,
   "metadata": {
    "collapsed": false
   },
   "outputs": [
    {
     "name": "stdout",
     "output_type": "stream",
     "text": [
      "Number of visa type nulls:\n"
     ]
    },
    {
     "data": {
      "text/plain": [
       "0"
      ]
     },
     "execution_count": 17,
     "metadata": {},
     "output_type": "execute_result"
    }
   ],
   "source": [
    "print('Number of visa type nulls:')\n",
    "h2visas_df.visa_type.isnull().sum()"
   ]
  },
  {
   "cell_type": "code",
   "execution_count": 18,
   "metadata": {
    "collapsed": false
   },
   "outputs": [
    {
     "name": "stdout",
     "output_type": "stream",
     "text": [
      "H-2B    29499\n",
      "H-2A    19314\n",
      "Name: visa_type, dtype: int64\n"
     ]
    },
    {
     "data": {
      "image/png": "[encoded data removed]",
      "text/plain": [
       "<matplotlib.figure.Figure at 0x1e69407ca58>"
      ]
     },
     "metadata": {},
     "output_type": "display_data"
    }
   ],
   "source": [
    "print(h2visas_df[\"visa_type\"].value_counts())\n",
    "h2visas_df[\"visa_type\"].value_counts().plot(kind='bar')\n",
    "plt.title(\"Number of visas for each type\", size=15)\n",
    "plt.xticks(rotation='horizontal')\n",
    "plt.show()"
   ]
  },
  {
   "cell_type": "markdown",
   "metadata": {},
   "source": [
    "### 4.2  case status & is_certified\n",
    "There are many case status but some of them mean the same thing. I will simplify them into 5 different statuses (Cerfified, In_progress, Denied, Expired, and Withdrawn ) "
   ]
  },
  {
   "cell_type": "code",
   "execution_count": 20,
   "metadata": {
    "collapsed": false
   },
   "outputs": [
    {
     "data": {
      "text/plain": [
       "CERTIFICATION                                           16969\n",
       "CERTIFIED                                                8166\n",
       "CERTIFIED - FULL                                         6119\n",
       "DETERMINATION ISSUED - CERTIFICATION                     5417\n",
       "DENIED                                                   3286\n",
       "PARTIAL CERTIFIED                                        3193\n",
       "PARTIAL CERTIFICATION                                    2034\n",
       "WITHDRAWN                                                1796\n",
       "CERTIFIED - PARTIAL                                      1273\n",
       "CERTIFICATION EXPIRED                                     320\n",
       "DETERMINATION ISSUED - PARTIAL CERTIFICATION               95\n",
       "PARTIAL CERTIFICATION EXPIRED                              75\n",
       "DETERMINATION ISSUED - CERTIFICATION EXPIRED               49\n",
       "DETERMINATION ISSUED - WITHDRAWN                            9\n",
       "DETERMINATION ISSUED - PARTIAL CERTIFICATION EXPIRED        8\n",
       "DETERMINATION ISSUED - DENIED                               4\n",
       "Name: case_status, dtype: int64"
      ]
     },
     "execution_count": 20,
     "metadata": {},
     "output_type": "execute_result"
    }
   ],
   "source": [
    "#case_status counts\n",
    "h2visas_df[\"case_status\"].value_counts()"
   ]
  },
  {
   "cell_type": "code",
   "execution_count": 21,
   "metadata": {
    "collapsed": false
   },
   "outputs": [
    {
     "name": "stdout",
     "output_type": "stream",
     "text": [
      "New classification:\n"
     ]
    },
    {
     "data": {
      "text/plain": [
       "Certified    36671\n",
       "Partial       6595\n",
       "Denied        3290\n",
       "Withdrawn     1805\n",
       "Expired        452\n",
       "Name: case_status_sum, dtype: int64"
      ]
     },
     "execution_count": 21,
     "metadata": {},
     "output_type": "execute_result"
    }
   ],
   "source": [
    "Certified = ['CERTIFIED - FULL','CERTIFIED','CERTIFIED, TEMPORARY','DETERMINATION ISSUED - CERTIFICATION','CERTIFICATION',]\n",
    "Partial = ['PARTIAL CERTIFIED','CERTIFIED - PARTIAL','PARTIAL CERTIFICATION','DETERMINATION ISSUED - PARTIAL CERTIFICATION']\n",
    "Denied = ['DENIED','DENIED, TEMPORARY','DETERMINATION ISSUED - DENIED','REDUCTION IN RECRUITMENT DENIED','NOF ISSUED','INCOMPLETE']\n",
    "In_progress = ['RECEIVED REGIONAL OFFICE','RECEIVED','REMAND TO SWA','REMAND ISSUED TO EMPLOYER','REMAND ISSUED TO STATE','FINAL REVIEW','DATA REVIEW','RETURNED BY EMP AFTER REMAND','MODIFICATION']\n",
    "Withdrawn = ['WITHDRAWN','DETERMINATION ISSUED - WITHDRAWN']\n",
    "Expired = ['PARTIAL CERTIFICATION EXPIRED','DETERMINATION ISSUED - CERTIFICATION EXPIRED','CERTIFICATION EXPIRED','DETERMINATION ISSUED - PARTIAL CERTIFICATION EXPIRED']\n",
    "\n",
    "def classify_status(status):\n",
    "    new_status = status\n",
    "    if status in Certified:\n",
    "        new_status = 'Certified'\n",
    "    elif status in Partial:\n",
    "        new_status = 'Partial'\n",
    "    elif status in Denied:\n",
    "        new_status = 'Denied'\n",
    "    elif status in In_progress:\n",
    "        new_status = 'In_progress'\n",
    "    elif status in Withdrawn:\n",
    "        new_status = 'Withdrawn'\n",
    "    elif status in Expired:\n",
    "        new_status = 'Expired'\n",
    "    return new_status\n",
    "\n",
    "h2visas_df[\"case_status_sum\"] = h2visas_df[\"case_status\"].map(lambda x: classify_status(x))\n",
    "print(\"New classification:\")\n",
    "h2visas_df[\"case_status_sum\"].value_counts()"
   ]
  },
  {
   "cell_type": "code",
   "execution_count": 22,
   "metadata": {
    "collapsed": false
   },
   "outputs": [
    {
     "data": {
      "image/png": "[encoded data removed]",
      "text/plain": [
       "<matplotlib.figure.Figure at 0x1e692749c18>"
      ]
     },
     "metadata": {},
     "output_type": "display_data"
    }
   ],
   "source": [
    "h2visas_df[\"case_status_sum\"].value_counts().plot(kind='bar')\n",
    "plt.title(\"Case status count\", size=15)\n",
    "plt.xticks(rotation=45)\n",
    "plt.show()"
   ]
  },
  {
   "cell_type": "markdown",
   "metadata": {},
   "source": [
    "`is_certified (True / False)` is a standardization of the `case_status` field.\n",
    "\n",
    "In the following output we see that is_certified column contains partial and expired applications. Not certified also contains a few of them.\n",
    "\n",
    "This part will need more research."
   ]
  },
  {
   "cell_type": "code",
   "execution_count": 23,
   "metadata": {
    "collapsed": false
   },
   "outputs": [
    {
     "name": "stdout",
     "output_type": "stream",
     "text": [
      " -------------- is certified ------------ \n",
      "Certified    36340\n",
      "Partial       6553\n",
      "Expired        446\n",
      "Name: case_status_sum, dtype: int64\n",
      " \n",
      "-------------- is NOT certified --------- \n",
      "Denied       3290\n",
      "Withdrawn    1805\n",
      "Certified     331\n",
      "Partial        42\n",
      "Expired         6\n",
      "Name: case_status_sum, dtype: int64\n"
     ]
    }
   ],
   "source": [
    "print(\" -------------- is certified ------------ \")\n",
    "print(h2visas_df[\"case_status_sum\"][h2visas_df[\"is_certified\"] == True].value_counts())\n",
    "print(\" \\n-------------- is NOT certified --------- \")\n",
    "print(h2visas_df[\"case_status_sum\"][h2visas_df[\"is_certified\"] == False].value_counts())"
   ]
  },
  {
   "cell_type": "code",
   "execution_count": 28,
   "metadata": {
    "collapsed": false
   },
   "outputs": [
    {
     "name": "stdout",
     "output_type": "stream",
     "text": [
      "Number of NaN:\n",
      "case_status_sum    0\n",
      "is_certified       0\n",
      "dtype: int64\n"
     ]
    }
   ],
   "source": [
    "print(\"Number of NaN:\")\n",
    "print(h2visas_df[[\"case_status_sum\",\"is_certified\"]].isnull().sum())"
   ]
  },
  {
   "cell_type": "markdown",
   "metadata": {},
   "source": [
    "### 4.3 n_requested & n_certified"
   ]
  },
  {
   "cell_type": "code",
   "execution_count": 30,
   "metadata": {
    "collapsed": false
   },
   "outputs": [
    {
     "name": "stdout",
     "output_type": "stream",
     "text": [
      "Number of NaN:\n",
      "n_requested    16134\n",
      "n_certified        0\n",
      "dtype: int64\n"
     ]
    }
   ],
   "source": [
    "#Nulls\n",
    "print(\"Number of NaN:\")\n",
    "print(h2visas_df[[\"n_requested\",\"n_certified\"]].isnull().sum())"
   ]
  },
  {
   "cell_type": "markdown",
   "metadata": {},
   "source": [
    "Let's check the distribution for each kind of VISA"
   ]
  },
  {
   "cell_type": "code",
   "execution_count": 35,
   "metadata": {
    "collapsed": false
   },
   "outputs": [
    {
     "data": {
      "image/png": "[encoded data removed]",
      "text/plain": [
       "<matplotlib.figure.Figure at 0x1e692b68e48>"
      ]
     },
     "metadata": {},
     "output_type": "display_data"
    }
   ],
   "source": [
    "# show histogram of n_requested and n_certified under 150 for both types of visas capping at 200\n",
    "fig = plt.figure(figsize=(15,8))\n",
    "ax1 = plt.subplot2grid((2,2), (0, 0))\n",
    "ax2 = plt.subplot2grid((2,2), (0, 1))\n",
    "ax3 = plt.subplot2grid((2,2), (1, 0))\n",
    "ax4 = plt.subplot2grid((2,2), (1, 1))\n",
    "ax1.set(xlabel='n_requested' , ylabel='Count', title='H-2B')\n",
    "ax2.set(xlabel='n_requested' , ylabel='Count', title='H-2A')\n",
    "ax3.set(xlabel='n_certified' , ylabel='Count', title='H-2B')\n",
    "ax4.set(xlabel='n_certified' , ylabel='Count', title='H-2A')\n",
    "ax1.hist(h2visas_df.n_requested[h2visas_df.visa_type == 'H-2B'].dropna(),bins=50,color='r')\n",
    "ax2.hist(h2visas_df.n_requested[h2visas_df.visa_type == 'H-2A'].dropna(),bins=50) \n",
    "ax3.hist(h2visas_df.n_certified[h2visas_df.visa_type == 'H-2B'],bins=50,color='r')\n",
    "ax4.hist(h2visas_df.n_certified[h2visas_df.visa_type == 'H-2A'],bins=50) \n",
    "plt.tight_layout()\n",
    "plt.show()"
   ]
  },
  {
   "cell_type": "markdown",
   "metadata": {},
   "source": [
    "As we can see there are some outliers. Let's zoom in to where most of the data is:"
   ]
  },
  {
   "cell_type": "code",
   "execution_count": 34,
   "metadata": {
    "collapsed": false,
    "scrolled": false
   },
   "outputs": [
    {
     "data": {
      "image/png": "[encoded data removed]",
      "text/plain": [
       "<matplotlib.figure.Figure at 0x1e692b92278>"
      ]
     },
     "metadata": {},
     "output_type": "display_data"
    }
   ],
   "source": [
    "# show histogram of n_requested and n_certified under 150 for both types of visas\n",
    "fig = plt.figure(figsize=(15,8))\n",
    "ax1 = plt.subplot2grid((2,2), (0, 0))\n",
    "ax2 = plt.subplot2grid((2,2), (0, 1))\n",
    "ax3 = plt.subplot2grid((2,2), (1, 0))\n",
    "ax4 = plt.subplot2grid((2,2), (1, 1))\n",
    "ax1.set(xlabel='n_requested' , ylabel='Count', title='H-2B')\n",
    "ax2.set(xlabel='n_requested' , ylabel='Count', title='H-2A')\n",
    "ax3.set(xlabel='n_certified' , ylabel='Count', title='H-2B')\n",
    "ax4.set(xlabel='n_certified' , ylabel='Count', title='H-2A')\n",
    "ax1.hist(h2visas_df.n_requested[(h2visas_df.visa_type == 'H-2B') & (h2visas_df.n_requested < 150)],bins=50,color='r')\n",
    "ax2.hist(h2visas_df.n_requested[(h2visas_df.visa_type == 'H-2A') & (h2visas_df.n_requested < 150)],bins=50) \n",
    "ax3.hist(h2visas_df.n_certified[(h2visas_df.visa_type == 'H-2B') & (h2visas_df.n_certified < 150)],bins=50,color='r')\n",
    "ax4.hist(h2visas_df.n_certified[(h2visas_df.visa_type == 'H-2A') & (h2visas_df.n_certified < 150)],bins=50) \n",
    "plt.tight_layout()\n",
    "plt.show()"
   ]
  },
  {
   "cell_type": "markdown",
   "metadata": {},
   "source": [
    "The number of outliers is not that big if we compare them to the size of the data set. Based on the histograms I consider outliers those over 150"
   ]
  },
  {
   "cell_type": "code",
   "execution_count": 36,
   "metadata": {
    "collapsed": false
   },
   "outputs": [
    {
     "name": "stdout",
     "output_type": "stream",
     "text": [
      "number of n_request over 150:\n",
      "222\n",
      "number of n_certified over 150:\n",
      "265\n"
     ]
    }
   ],
   "source": [
    "print('number of n_request over 150:')\n",
    "print(len(h2visas_df[h2visas_df.n_requested > 150]))\n",
    "print('number of n_certified over 150:')\n",
    "print(len(h2visas_df[h2visas_df.n_certified > 150]))"
   ]
  },
  {
   "cell_type": "markdown",
   "metadata": {},
   "source": [
    "Checking some of them. They seem legit so I'll leave them. I could do further reasearch on this though. Here is one as an example"
   ]
  },
  {
   "cell_type": "code",
   "execution_count": 37,
   "metadata": {
    "collapsed": false
   },
   "outputs": [
    {
     "data": {
      "text/html": [
       "<div>\n",
       "<table border=\"1\" class=\"dataframe\">\n",
       "  <thead>\n",
       "    <tr style=\"text-align: right;\">\n",
       "      <th></th>\n",
       "      <th>case_no</th>\n",
       "      <th>visa_type</th>\n",
       "      <th>fy</th>\n",
       "      <th>last_event_date</th>\n",
       "      <th>case_status</th>\n",
       "      <th>n_requested</th>\n",
       "      <th>n_certified</th>\n",
       "      <th>is_certified</th>\n",
       "      <th>certification_begin_date</th>\n",
       "      <th>certification_end_date</th>\n",
       "      <th>...</th>\n",
       "      <th>employer_city</th>\n",
       "      <th>employer_address_1</th>\n",
       "      <th>employer_address_2</th>\n",
       "      <th>employer_postal_code</th>\n",
       "      <th>worksite_state</th>\n",
       "      <th>worksite_city</th>\n",
       "      <th>agent_name</th>\n",
       "      <th>organization_flag</th>\n",
       "      <th>is_duplicate</th>\n",
       "      <th>case_status_sum</th>\n",
       "    </tr>\n",
       "  </thead>\n",
       "  <tbody>\n",
       "  </tbody>\n",
       "</table>\n",
       "<p>0 rows × 23 columns</p>\n",
       "</div>"
      ],
      "text/plain": [
       "Empty DataFrame\n",
       "Columns: [case_no, visa_type, fy, last_event_date, case_status, n_requested, n_certified, is_certified, certification_begin_date, certification_end_date, job_title, employer_name, employer_state, employer_city, employer_address_1, employer_address_2, employer_postal_code, worksite_state, worksite_city, agent_name, organization_flag, is_duplicate, case_status_sum]\n",
       "Index: []\n",
       "\n",
       "[0 rows x 23 columns]"
      ]
     },
     "execution_count": 37,
     "metadata": {},
     "output_type": "execute_result"
    }
   ],
   "source": [
    "h2visas_df[h2visas_df.n_requested == 1714.0]"
   ]
  },
  {
   "cell_type": "markdown",
   "metadata": {},
   "source": [
    "There are a few cases were n_certified is bigger than n_requested. This is wrong."
   ]
  },
  {
   "cell_type": "code",
   "execution_count": null,
   "metadata": {
    "collapsed": false
   },
   "outputs": [],
   "source": [
    "h2visas_df[['visa_type','fy','case_status_sum','n_requested','n_certified']][h2visas_df.n_certified > h2visas_df.n_requested]"
   ]
  },
  {
   "cell_type": "markdown",
   "metadata": {},
   "source": [
    "As they are very few I'll fix them manually. I'll drop Partials and fix Certified"
   ]
  },
  {
   "cell_type": "code",
   "execution_count": null,
   "metadata": {
    "collapsed": false
   },
   "outputs": [],
   "source": [
    "h2visas_df.loc[151531,\"n_certified\"] = 9\n",
    "h2visas_df.drop(191287,inplace=True)\n",
    "h2visas_df.drop(199495,inplace=True)\n",
    "h2visas_df.loc[210837,\"n_certified\"] = 8\n",
    "h2visas_df.loc[211604,\"n_certified\"] = 6\n",
    "h2visas_df.drop(212263,inplace=True)\n",
    "h2visas_df.loc[212714,\"n_certified\"] = 2"
   ]
  },
  {
   "cell_type": "code",
   "execution_count": null,
   "metadata": {
    "collapsed": false
   },
   "outputs": [],
   "source": [
    "print(\"What values are in n_certified when n_requested is NaN? :\")\n",
    "h2visas_df.case_status_sum[h2visas_df.n_requested.isnull()].value_counts()"
   ]
  },
  {
   "cell_type": "markdown",
   "metadata": {},
   "source": [
    "I can fix n_requested for the ones that are certified because I know that all visas requested were granted, so I'll copy the value of n_certified to n_requested. "
   ]
  },
  {
   "cell_type": "code",
   "execution_count": null,
   "metadata": {
    "collapsed": false,
    "scrolled": true
   },
   "outputs": [],
   "source": [
    "new_values = h2visas_df.n_certified[(h2visas_df.case_status_sum == 'Certified') & (h2visas_df.n_requested.isnull())]\n",
    "h2visas_df.n_requested[(h2visas_df.case_status_sum == 'Certified') & (h2visas_df.n_requested.isnull())]\n",
    "h2visas_df.loc[new_values.index,'n_requested']= new_values"
   ]
  },
  {
   "cell_type": "markdown",
   "metadata": {},
   "source": [
    "I can't do nothing for the rest so I'll leave the as they are:"
   ]
  },
  {
   "cell_type": "code",
   "execution_count": null,
   "metadata": {
    "collapsed": false
   },
   "outputs": [],
   "source": [
    "h2visas_df.case_status_sum[h2visas_df.n_requested.isnull()].value_counts()"
   ]
  },
  {
   "cell_type": "markdown",
   "metadata": {},
   "source": [
    "Some values have n_requested and n_certified iqual to 0, but all are Denied. So I'll set n_requested to NaN because I assume that you can not apply for 0 visas:"
   ]
  },
  {
   "cell_type": "code",
   "execution_count": null,
   "metadata": {
    "collapsed": false
   },
   "outputs": [],
   "source": [
    "h2visas_df[['case_status_sum','n_requested','n_certified']][h2visas_df['n_requested'] == 0]"
   ]
  },
  {
   "cell_type": "code",
   "execution_count": null,
   "metadata": {
    "collapsed": false
   },
   "outputs": [],
   "source": [
    "h2visas_df.loc[(h2visas_df['n_requested'] == 0) & (h2visas_df['case_status_sum'] == 'Denied'),'n_requested'] = np.nan"
   ]
  },
  {
   "cell_type": "markdown",
   "metadata": {},
   "source": [
    "# last_event_date"
   ]
  },
  {
   "cell_type": "markdown",
   "metadata": {},
   "source": [
    "First, let's convert all date columns to datetime"
   ]
  },
  {
   "cell_type": "code",
   "execution_count": null,
   "metadata": {
    "collapsed": true
   },
   "outputs": [],
   "source": [
    "#convert to datetime\n",
    "h2visas_df[\"last_event_date\"] = pd.to_datetime(h2visas_df[\"last_event_date\"])\n",
    "h2visas_df[\"certification_begin_date\"] = pd.to_datetime(h2visas_df[\"certification_begin_date\"])\n",
    "h2visas_df[\"certification_end_date\"] = pd.to_datetime(h2visas_df[\"certification_end_date\"])"
   ]
  },
  {
   "cell_type": "markdown",
   "metadata": {},
   "source": [
    "Check last_event_date for nulls:"
   ]
  },
  {
   "cell_type": "code",
   "execution_count": null,
   "metadata": {
    "collapsed": false
   },
   "outputs": [],
   "source": [
    "print (\"Nulls last_event_date:\")\n",
    "vc = h2visas_df[\"visa_type\"][h2visas_df[\"last_event_date\"].isnull()].value_counts()\n",
    "if len(vc)==0:\n",
    "    print(\"No Nulls\")\n",
    "else:\n",
    "    print(vc)"
   ]
  },
  {
   "cell_type": "markdown",
   "metadata": {},
   "source": [
    "# certification_begin_date & certification_end_date"
   ]
  },
  {
   "cell_type": "markdown",
   "metadata": {},
   "source": [
    "Check end Cerfication begin dates and Certification end dates"
   ]
  },
  {
   "cell_type": "code",
   "execution_count": null,
   "metadata": {
    "collapsed": false
   },
   "outputs": [],
   "source": [
    "print (\"Nulls certification_begin_date:\")\n",
    "vc = h2visas_df[\"visa_type\"][h2visas_df[\"certification_begin_date\"].isnull()].value_counts()\n",
    "if len(vc)==0:\n",
    "    print(\"No Nulls\")\n",
    "else:\n",
    "    print(vc)"
   ]
  },
  {
   "cell_type": "code",
   "execution_count": null,
   "metadata": {
    "collapsed": false
   },
   "outputs": [],
   "source": [
    "print (\"Nulls certification_end_date:\")\n",
    "vc = h2visas_df[\"visa_type\"][h2visas_df[\"certification_end_date\"].isnull()].value_counts()\n",
    "if len(vc)==0:\n",
    "    print(\"No Nulls\")\n",
    "else:\n",
    "    print(vc)"
   ]
  },
  {
   "cell_type": "markdown",
   "metadata": {},
   "source": [
    "Let's check the time in between certification_begin_date and certification_end_date in days:"
   ]
  },
  {
   "cell_type": "code",
   "execution_count": null,
   "metadata": {
    "collapsed": false
   },
   "outputs": [],
   "source": [
    "date_aux = h2visas_df.loc[(h2visas_df['certification_begin_date'].notnull()) & (h2visas_df['certification_end_date'].notnull()),['certification_begin_date','certification_end_date']]\n",
    "diff = ((date_aux.certification_end_date - date_aux.certification_begin_date) / np.timedelta64(1, 'D')).astype(int)\n",
    "diff.hist(bins=100)\n",
    "plt.title(\"Difference in days between begin_date and end_date\", size=15)\n",
    "plt.xticks(rotation=45)"
   ]
  },
  {
   "cell_type": "markdown",
   "metadata": {},
   "source": [
    "It seems there are many outliers, let's zoom in:"
   ]
  },
  {
   "cell_type": "code",
   "execution_count": null,
   "metadata": {
    "collapsed": false
   },
   "outputs": [],
   "source": [
    "diff[(diff < 400) & (diff > 30)].hist(bins=30)\n",
    "plt.title(\"Difference in days between begin_date and end_date\", size=15)\n",
    "plt.xticks(rotation=45)"
   ]
  },
  {
   "cell_type": "markdown",
   "metadata": {},
   "source": [
    "The length of visas are usually less than a year. We could consider outliers the ones that have a difference greater than 400 or less than 30. How many are there?"
   ]
  },
  {
   "cell_type": "code",
   "execution_count": null,
   "metadata": {
    "collapsed": false
   },
   "outputs": [],
   "source": [
    "len(diff[(diff > 400) | (diff < 30)])"
   ]
  },
  {
   "cell_type": "markdown",
   "metadata": {},
   "source": [
    "Let's set these to NaN for the purpose of our analysis. Further analysis could be done here though."
   ]
  },
  {
   "cell_type": "code",
   "execution_count": null,
   "metadata": {
    "collapsed": false
   },
   "outputs": [],
   "source": [
    "h2visas_df.loc[diff[(diff > 400) | (diff<30)].index,'certification_end_date'] = np.nan\n",
    "h2visas_df.loc[diff[(diff > 400) | (diff<30)].index,'certification_begin_date'] = np.nan"
   ]
  },
  {
   "cell_type": "markdown",
   "metadata": {},
   "source": [
    "Let's check distributions of certification_end_date and certification_begin_date"
   ]
  },
  {
   "cell_type": "code",
   "execution_count": null,
   "metadata": {
    "collapsed": false
   },
   "outputs": [],
   "source": [
    "print(\"certification_end_date:\")\n",
    "h2visas_df['certification_end_date'].dt.year.dropna().astype(int).value_counts().sort_index()"
   ]
  },
  {
   "cell_type": "markdown",
   "metadata": {},
   "source": [
    "Now let's do the same with certification_begin_date"
   ]
  },
  {
   "cell_type": "code",
   "execution_count": null,
   "metadata": {
    "collapsed": false
   },
   "outputs": [],
   "source": [
    "h2visas_df['certification_begin_date'].dt.year.dropna().astype(int).value_counts().sort_index()"
   ]
  },
  {
   "cell_type": "markdown",
   "metadata": {},
   "source": [
    "Ploting the results"
   ]
  },
  {
   "cell_type": "code",
   "execution_count": null,
   "metadata": {
    "collapsed": false
   },
   "outputs": [],
   "source": [
    "begin = h2visas_df['certification_begin_date'].dt.year.dropna().astype(int).value_counts().sort_index()\n",
    "end = h2visas_df['certification_end_date'].dt.year.dropna().astype(int).value_counts().sort_index()\n",
    "\n",
    "fig = plt.figure(figsize=(14,5))\n",
    "ax1 = plt.subplot2grid((1,2), (0, 0))\n",
    "ax2 = plt.subplot2grid((1,2), (0, 1))\n",
    "ax1.set(xlabel='certification_begin_date' , ylabel='Count', title='Certification begin')\n",
    "ax2.set(xlabel='certification_end_date' , ylabel='Count', title='Certification end')\n",
    "ax1.bar(begin.index[2:], begin.values[2:],width=0.4, color='r',align='center')\n",
    "ax2.bar(end.index[2:], end.values[2:],width=0.4, color='b',align='center') \n",
    "ax1.ticklabel_format(useOffset=False)\n",
    "ax2.ticklabel_format(useOffset=False)\n",
    "plt.tight_layout()\n",
    "plt.show()"
   ]
  },
  {
   "cell_type": "markdown",
   "metadata": {},
   "source": [
    "# job_title"
   ]
  },
  {
   "cell_type": "code",
   "execution_count": null,
   "metadata": {
    "collapsed": false
   },
   "outputs": [],
   "source": [
    "print('Number of nulls:')\n",
    "h2visas_df.fy.isnull().sum()"
   ]
  },
  {
   "cell_type": "code",
   "execution_count": null,
   "metadata": {
    "collapsed": false
   },
   "outputs": [],
   "source": [
    "print('How many job titles?:')\n",
    "len(h2visas_df.job_title.value_counts())"
   ]
  },
  {
   "cell_type": "code",
   "execution_count": null,
   "metadata": {
    "collapsed": false
   },
   "outputs": [],
   "source": [
    "h2visas_df.job_title.value_counts()[:20].plot(kind='bar')\n",
    "plt.title(\"20 most common job titles\", size=15)\n",
    "plt.show()"
   ]
  },
  {
   "cell_type": "markdown",
   "metadata": {},
   "source": [
    "As we can see some names repeat themself. TODO: group jobs that have similar words"
   ]
  },
  {
   "cell_type": "markdown",
   "metadata": {},
   "source": [
    "# organization_flag"
   ]
  },
  {
   "cell_type": "code",
   "execution_count": null,
   "metadata": {
    "collapsed": false
   },
   "outputs": [],
   "source": [
    "print('Number of nulls:')\n",
    "h2visas_df.organization_flag.isnull().sum()"
   ]
  },
  {
   "cell_type": "markdown",
   "metadata": {},
   "source": [
    "With so many nulls I'll probably get rid of this column"
   ]
  },
  {
   "cell_type": "code",
   "execution_count": null,
   "metadata": {
    "collapsed": false
   },
   "outputs": [],
   "source": [
    "print(h2visas_df.organization_flag.value_counts().sort_values())\n",
    "ofg = h2visas_df.groupby('organization_flag')\n",
    "ofg.aggregate(np.median).n_requested.plot(kind='bar')\n",
    "plt.title(\"Count of org flag tipes\", size=15)\n",
    "plt.show()"
   ]
  },
  {
   "cell_type": "markdown",
   "metadata": {},
   "source": [
    "As we can see below the letters only happend in 2011 to 2013. Probably there was a change of the format sometime on 2013 and we can join them together. Further analysis needed."
   ]
  },
  {
   "cell_type": "code",
   "execution_count": null,
   "metadata": {
    "collapsed": false
   },
   "outputs": [],
   "source": [
    "h2visas_df.groupby('organization_flag')['fy'].value_counts().unstack(level=1,fill_value=0)"
   ]
  },
  {
   "cell_type": "markdown",
   "metadata": {},
   "source": [
    "# FY"
   ]
  },
  {
   "cell_type": "code",
   "execution_count": null,
   "metadata": {
    "collapsed": false
   },
   "outputs": [],
   "source": [
    "print('Number of nulls:')\n",
    "h2visas_df.fy.isnull().sum()"
   ]
  },
  {
   "cell_type": "code",
   "execution_count": null,
   "metadata": {
    "collapsed": false
   },
   "outputs": [],
   "source": [
    "#counts\n",
    "h2visas_df.fy.value_counts()"
   ]
  },
  {
   "cell_type": "markdown",
   "metadata": {},
   "source": [
    "# Employer state"
   ]
  },
  {
   "cell_type": "code",
   "execution_count": null,
   "metadata": {
    "collapsed": false
   },
   "outputs": [],
   "source": [
    "print('Number of nulls:')\n",
    "h2visas_df.employer_state.isnull().sum()"
   ]
  },
  {
   "cell_type": "markdown",
   "metadata": {},
   "source": [
    "We can fix this by getting the state from the city"
   ]
  },
  {
   "cell_type": "code",
   "execution_count": null,
   "metadata": {
    "collapsed": false
   },
   "outputs": [],
   "source": [
    "cities = h2visas_df['employer_city'][h2visas_df.employer_state.isnull()].value_counts()\n",
    "cities"
   ]
  },
  {
   "cell_type": "markdown",
   "metadata": {},
   "source": [
    "I'll use google maps to get the state, in case I can't find it I'll leave it as NaN."
   ]
  },
  {
   "cell_type": "code",
   "execution_count": null,
   "metadata": {
    "collapsed": false
   },
   "outputs": [],
   "source": [
    "import requests\n",
    "dic_add = {} # to save what we find online\n",
    "for city in cities.index:\n",
    "    city = city.strip()\n",
    "    url = 'https://maps.googleapis.com/maps/api/geocode/json?address='+city+'NorthAmerica'\n",
    "    try:        \n",
    "        response = requests.get(url)\n",
    "        resp_json_payload = response.json()\n",
    "        dic_add[city]=(resp_json_payload['results'][0]['address_components'][2]['short_name'])\n",
    "        if len(dic_add[city])>2:\n",
    "            dic_add[city]=np.nan\n",
    "    except:\n",
    "        dic_add[city]=np.nan\n",
    "          \n",
    "#show results gotten from google maps\n",
    "print(\"Results from quering google maps:\")\n",
    "for k,v in dic_add.items():\n",
    "    print(\"Address: {0:20} Status: {1}\".format(str(k),str(v)))"
   ]
  },
  {
   "cell_type": "markdown",
   "metadata": {},
   "source": [
    "Using results to fix states:"
   ]
  },
  {
   "cell_type": "code",
   "execution_count": null,
   "metadata": {
    "collapsed": false
   },
   "outputs": [],
   "source": [
    "print(\"Fixing .....\")\n",
    "for i in h2visas_df['employer_city'][h2visas_df.employer_state.isnull()].dropna().index:\n",
    "    h2visas_df.loc[i,('employer_state')]=dic_add[str((h2visas_df.loc[i]['employer_city']).strip())]\n",
    "print(\"... done fixing\")\n",
    "print(\"All fixed but: \")\n",
    "h2visas_df.employer_state.isnull().sum()"
   ]
  },
  {
   "cell_type": "markdown",
   "metadata": {},
   "source": [
    "Let's check now if any of the states on the data doesn't exist"
   ]
  },
  {
   "cell_type": "code",
   "execution_count": null,
   "metadata": {
    "collapsed": true
   },
   "outputs": [],
   "source": [
    "us_states = ['AL','AK','AZ','AR','CA','CO','CT','DC','DE','FL','GA','GU','HI','ID','IL','IN','IA','KS','KY','LA','ME','MD','MA','MI',\n",
    "             'MN','MS','MO','MP','MT','NE','NV','NH','NJ','NM','NY','NC','ND','OH','OK','OR','PA','PR','RI','SC','SD','TN','TX','UT',\n",
    "             'VI','VT','VA','WA','WV','WI','WY']\n",
    "can_states = ['AB','BC','MB','NB','NL','NT','NS','NU','ON','PE','QC','SK','YT']"
   ]
  },
  {
   "cell_type": "code",
   "execution_count": null,
   "metadata": {
    "collapsed": false
   },
   "outputs": [],
   "source": [
    "# what states are wrong?\n",
    "wrong_states = []\n",
    "for state in h2visas_df.employer_state.value_counts().index:\n",
    "    if (state not in us_states) and (state not in can_states) and (state not in wrong_states):\n",
    "        wrong_states.append(state)\n",
    "print('Non existent states:')\n",
    "wrong_states"
   ]
  },
  {
   "cell_type": "markdown",
   "metadata": {},
   "source": [
    "Let's see if I can figure out which state is this by looking at the city"
   ]
  },
  {
   "cell_type": "code",
   "execution_count": null,
   "metadata": {
    "collapsed": false
   },
   "outputs": [],
   "source": [
    "h2visas_df[['employer_state','employer_city','employer_address_1', 'employer_address_2', 'employer_postal_code','worksite_state', 'worksite_city']][h2visas_df['employer_state'] == 'NF']"
   ]
  },
  {
   "cell_type": "markdown",
   "metadata": {},
   "source": [
    "It looks the city is in Canada/Saskatchewan (SK).Let's fix it:"
   ]
  },
  {
   "cell_type": "code",
   "execution_count": null,
   "metadata": {
    "collapsed": false
   },
   "outputs": [],
   "source": [
    "h2visas_df.loc[h2visas_df.employer_state == 'NF','employer_state'] = 'SK'"
   ]
  },
  {
   "cell_type": "markdown",
   "metadata": {},
   "source": [
    "# Worksite state"
   ]
  },
  {
   "cell_type": "markdown",
   "metadata": {},
   "source": [
    "We'll see if there are any wrong states and fix it"
   ]
  },
  {
   "cell_type": "code",
   "execution_count": null,
   "metadata": {
    "collapsed": false
   },
   "outputs": [],
   "source": [
    "print('Number of nulls:')\n",
    "h2visas_df.employer_state.isnull().sum()"
   ]
  },
  {
   "cell_type": "code",
   "execution_count": null,
   "metadata": {
    "collapsed": false
   },
   "outputs": [],
   "source": [
    "# what states are wrong?\n",
    "wrong_states = []\n",
    "for state in h2visas_df.worksite_state.value_counts().index:\n",
    "    if (state not in us_states) and (state not in can_states) and (state not in wrong_states):\n",
    "        wrong_states.append(state)\n",
    "print('Non existent states:')\n",
    "wrong_states"
   ]
  },
  {
   "cell_type": "code",
   "execution_count": null,
   "metadata": {
    "collapsed": false
   },
   "outputs": [],
   "source": [
    "h2visas_df.worksite_state.value_counts().loc[wrong_states]"
   ]
  },
  {
   "cell_type": "markdown",
   "metadata": {},
   "source": [
    "Let's check these rows and fix the states by looking up where the cities are manually:"
   ]
  },
  {
   "cell_type": "code",
   "execution_count": null,
   "metadata": {
    "collapsed": false
   },
   "outputs": [],
   "source": [
    "h2visas_df.loc[h2visas_df.worksite_state == 'KA',['employer_city']]"
   ]
  },
  {
   "cell_type": "code",
   "execution_count": null,
   "metadata": {
    "collapsed": false
   },
   "outputs": [],
   "source": [
    "h2visas_df.loc[h2visas_df.worksite_state == 'FM',['employer_city']]"
   ]
  },
  {
   "cell_type": "code",
   "execution_count": null,
   "metadata": {
    "collapsed": false
   },
   "outputs": [],
   "source": [
    "h2visas_df.loc[h2visas_df.worksite_state == 'MH',['employer_city']]"
   ]
  },
  {
   "cell_type": "code",
   "execution_count": null,
   "metadata": {
    "collapsed": false
   },
   "outputs": [],
   "source": [
    "print(\"fixing ....\")\n",
    "h2visas_df.loc[h2visas_df.worksite_state == 'KA',['worksite_state']] = 'KS'\n",
    "h2visas_df.loc[h2visas_df.worksite_state == 'MH',['worksite_state']] = 'MI'\n",
    "h2visas_df.loc[h2visas_df.worksite_state == 'FM',['worksite_state']] = 'FL'\n",
    "print(\"\\n.... done\")"
   ]
  },
  {
   "cell_type": "markdown",
   "metadata": {},
   "source": [
    "# 5. Delete columns I don't need for my analysis or are not useful (many Nulls)"
   ]
  },
  {
   "cell_type": "code",
   "execution_count": null,
   "metadata": {
    "collapsed": false
   },
   "outputs": [],
   "source": [
    "h2visas_df.columns"
   ]
  },
  {
   "cell_type": "code",
   "execution_count": null,
   "metadata": {
    "collapsed": true
   },
   "outputs": [],
   "source": [
    "h2visas_df.drop(['is_duplicate','agent_name','worksite_city','employer_address_2','case_status','organization_flag'], axis=1, inplace=True)"
   ]
  },
  {
   "cell_type": "code",
   "execution_count": null,
   "metadata": {
    "collapsed": false,
    "scrolled": false
   },
   "outputs": [],
   "source": [
    "msno.matrix(h2visas_df)"
   ]
  },
  {
   "cell_type": "markdown",
   "metadata": {},
   "source": [
    "I could also delete the few rows I have with nulls but they don't bother me right now so I'll leave that for now"
   ]
  },
  {
   "cell_type": "markdown",
   "metadata": {},
   "source": [
    "# 6. Analysis\n",
    "Stats for year 2016 are shown in the quantitative measures but not plotted because we only have data for 3 months of 2016 and the plot could be misleading."
   ]
  },
  {
   "cell_type": "markdown",
   "metadata": {},
   "source": [
    "# a) How application status have change over time"
   ]
  },
  {
   "cell_type": "code",
   "execution_count": null,
   "metadata": {
    "collapsed": false
   },
   "outputs": [],
   "source": [
    "apgp = h2visas_df.groupby(['fy','case_status_sum'])['fy'].count()\n",
    "to_plot = apgp.unstack(level=1,fill_value=0)\n",
    "to_plot"
   ]
  },
  {
   "cell_type": "code",
   "execution_count": null,
   "metadata": {
    "collapsed": false
   },
   "outputs": [],
   "source": [
    "fig = plt.figure(figsize=(12,6))\n",
    "ax1 = plt.subplot2grid((1,1), (0, 0))\n",
    "ax1.set(xlabel='Year' , ylabel='Count', title='Case Status over time',xticks=(np.arange(2011, 2016, 1.0)))\n",
    "ax1.ticklabel_format(useOffset=False)\n",
    "ax1.plot(to_plot.loc[:2015])\n",
    "ax1.legend(apgp.index.levels[1],loc=0,prop={'size':15})\n",
    "plt.tight_layout()\n",
    "plt.show()"
   ]
  },
  {
   "cell_type": "markdown",
   "metadata": {},
   "source": [
    "# b) How have the number of approved workers changed over time?"
   ]
  },
  {
   "cell_type": "code",
   "execution_count": null,
   "metadata": {
    "collapsed": false
   },
   "outputs": [],
   "source": [
    "fygb = h2visas_df.groupby('fy')\n",
    "to_plot = fygb['n_requested','n_certified'].aggregate(np.sum)\n",
    "to_plot"
   ]
  },
  {
   "cell_type": "code",
   "execution_count": null,
   "metadata": {
    "collapsed": false
   },
   "outputs": [],
   "source": [
    "fig = plt.figure(figsize=(12,6))\n",
    "ax2 = plt.subplot2grid((1,1), (0, 0))\n",
    "ax2.set(xlabel='Year' , ylabel='Sum', title='Requested and certifed Visas over time',xticks=(np.arange(2011, 2016, 1.0)))\n",
    "ax2.ticklabel_format(useOffset=False)\n",
    "ax2.plot(to_plot.index[:-1],to_plot.values[:-1])\n",
    "ax2.legend(to_plot.columns,loc=0,prop={'size':15})\n",
    "plt.tight_layout()\n",
    "plt.show()"
   ]
  },
  {
   "cell_type": "markdown",
   "metadata": {},
   "source": [
    "# c) Which states request the most visas and how has this changed over time?"
   ]
  },
  {
   "cell_type": "markdown",
   "metadata": {},
   "source": [
    "Let's check the top 10 states and plot how the applications of these states have changed over time"
   ]
  },
  {
   "cell_type": "code",
   "execution_count": null,
   "metadata": {
    "collapsed": false
   },
   "outputs": [],
   "source": [
    "top10_states = h2visas_df.employer_state.value_counts().index[:11]\n",
    "top10_states"
   ]
  },
  {
   "cell_type": "code",
   "execution_count": null,
   "metadata": {
    "collapsed": false
   },
   "outputs": [],
   "source": [
    "apgp = h2visas_df[h2visas_df[\"employer_state\"].isin(top10_states)].groupby(['fy','employer_state'])['fy'].count()\n",
    "to_plot = apgp.unstack(level=1,fill_value=0)\n",
    "to_plot"
   ]
  },
  {
   "cell_type": "code",
   "execution_count": null,
   "metadata": {
    "collapsed": false
   },
   "outputs": [],
   "source": [
    "fig = plt.figure(figsize=(25,12))\n",
    "ax1 = plt.subplot2grid((1,1), (0, 0))\n",
    "ax1.set(xlabel='Year' , ylabel='Count', title='State applications over time',xticks=(np.arange(2011, 2016, 1.0)))\n",
    "ax1.ticklabel_format(useOffset=False)\n",
    "ax1.plot(to_plot.loc[:2015])\n",
    "ax1.legend(apgp.index.levels[1],loc=0,prop={'size':18})\n",
    "plt.tight_layout()\n",
    "plt.show()"
   ]
  },
  {
   "cell_type": "markdown",
   "metadata": {},
   "source": [
    "# d) Number of VISAS per state (all applications)"
   ]
  },
  {
   "cell_type": "code",
   "execution_count": null,
   "metadata": {
    "collapsed": true
   },
   "outputs": [],
   "source": [
    "# create new column with the key for vincent maps\n",
    "states = {'AK': 'Alaska','AL': 'Alabama','AR': 'Arkansas','AS': 'American Samoa','AZ': 'Arizona','CA': 'California',\n",
    "        'CO': 'Colorado','CT': 'Connecticut','DC': 'District of Columbia','DE': 'Delaware','FL': 'Florida','GA': 'Georgia',\n",
    "        'GU': 'Guam','HI': 'Hawaii','IA': 'Iowa','ID': 'Idaho','IL': 'Illinois','IN': 'Indiana','KS': 'Kansas','KY': 'Kentucky',\n",
    "        'LA': 'Louisiana','MA': 'Massachusetts','MD': 'Maryland','ME': 'Maine','MI': 'Michigan','MN': 'Minnesota',\n",
    "        'MO': 'Missouri','MP': 'Northern Mariana Islands','MS': 'Mississippi','MT': 'Montana','NA': 'National',\n",
    "        'NC': 'North Carolina','ND': 'North Dakota','NE': 'Nebraska','NH': 'New Hampshire','NJ': 'New Jersey','NM': 'New Mexico',\n",
    "        'NV': 'Nevada','NY': 'New York','OH': 'Ohio','OK': 'Oklahoma','OR': 'Oregon','PA': 'Pennsylvania','PR': 'Puerto Rico',\n",
    "        'RI': 'Rhode Island','SC': 'South Carolina','SD': 'South Dakota','TN': 'Tennessee','TX': 'Texas','UT': 'Utah',\n",
    "        'VA': 'Virginia','VI': 'Virgin Islands','VT': 'Vermont', 'WA': 'Washington','WI': 'Wisconsin','WV': 'West Virginia',\n",
    "        'WY': 'Wyoming','AB': 'Alberta','BC': 'British Columbia','MB': 'Manitoba','NB': 'New Brunswick','NL': 'Newfoundland and Labrador',\n",
    "        'NT': 'Northwest Territories','NS': 'Nova Scotia','NU': 'Nunavut','ON': 'Ontario','PE': 'Prince Edward Island',\n",
    "        'QC': 'Quebec','SK': 'Saskatchewan','YT': 'Yukon'}\n"
   ]
  },
  {
   "cell_type": "code",
   "execution_count": null,
   "metadata": {
    "collapsed": false,
    "scrolled": true
   },
   "outputs": [],
   "source": [
    "h2visas_df.dropna(subset=[\"employer_state\"], axis=0, inplace=True)\n",
    "h2visas_df[\"employer_states_full\"] = h2visas_df[\"employer_state\"].map(lambda m: states[m])\n",
    "state_visas = pd.DataFrame()\n",
    "state_visas['NAME']=h2visas_df[\"employer_states_full\"].value_counts().index\n",
    "state_visas['DATA']=h2visas_df[\"employer_states_full\"].value_counts().values\n",
    "\n",
    "vincent.core.initialize_notebook()\n",
    "state_topo = \"https://raw.githubusercontent.com/wrobstory/vincent_map_data/master/us_states.topo.json\"\n",
    "geo_data = [{'name': 'states',\n",
    "             'url': state_topo,\n",
    "             'feature': 'us_states.geo'}]\n",
    "\n",
    "vis = vincent.Map(data=state_visas,geo_data = geo_data, scale = 1000, projection = 'albersUsa',data_bind='DATA' , data_key='NAME',map_key={'states': 'properties.NAME'})\n",
    "vis.scales[0].type='threshold'\n",
    "vis.scales[0].domain = list(range(0, 6000,750))\n",
    "vis.legend(title='Visa applications per US state')\n",
    "\n",
    "vis.to_json('vega.json')\n",
    "vis.display()"
   ]
  },
  {
   "cell_type": "code",
   "execution_count": null,
   "metadata": {
    "collapsed": false
   },
   "outputs": [],
   "source": [
    "from IPython.display import Image\n",
    "Image(filename='map1.png') "
   ]
  },
  {
   "cell_type": "markdown",
   "metadata": {},
   "source": [
    "# e) Number of worksites states"
   ]
  },
  {
   "cell_type": "code",
   "execution_count": null,
   "metadata": {
    "collapsed": false
   },
   "outputs": [],
   "source": [
    "h2visas_df.dropna(subset=[\"worksite_state\"], axis=0, inplace=True)\n",
    "h2visas_df[\"working_states_full\"] = h2visas_df[\"worksite_state\"].map(lambda m: states[m])\n",
    "state_visas = pd.DataFrame()\n",
    "state_visas['NAME']=h2visas_df[\"working_states_full\"].value_counts().index\n",
    "state_visas['DATA']=h2visas_df[\"working_states_full\"].value_counts().values\n",
    "\n",
    "vincent.core.initialize_notebook()\n",
    "state_topo = \"https://raw.githubusercontent.com/wrobstory/vincent_map_data/master/us_states.topo.json\"\n",
    "geo_data = [{'name': 'states',\n",
    "             'url': state_topo,\n",
    "             'feature': 'us_states.geo'}]\n",
    "\n",
    "vis = vincent.Map(data=state_visas,geo_data = geo_data, scale = 1000, projection = 'albersUsa',data_bind='DATA' , data_key='NAME',map_key={'states': 'properties.NAME'})\n",
    "vis.scales[0].type='threshold'\n",
    "vis.scales[0].domain = list(range(0, 6000,750))\n",
    "vis.legend(title='Visa applications per US state')\n",
    "\n",
    "vis.to_json('vega.json')\n",
    "vis.display()"
   ]
  },
  {
   "cell_type": "code",
   "execution_count": null,
   "metadata": {
    "collapsed": false
   },
   "outputs": [],
   "source": [
    "Image(filename='map2.png') "
   ]
  },
  {
   "cell_type": "code",
   "execution_count": null,
   "metadata": {
    "collapsed": true
   },
   "outputs": [],
   "source": [
    "#saving dataframe\n",
    "h2visas_df.to_csv(\"h2visas_df.csv\",index=False)"
   ]
  },
  {
   "cell_type": "code",
   "execution_count": null,
   "metadata": {
    "collapsed": true
   },
   "outputs": [],
   "source": []
  }
 ],
 "metadata": {
  "kernelspec": {
   "display_name": "Python 3",
   "language": "python",
   "name": "python3"
  },
  "language_info": {
   "codemirror_mode": {
    "name": "ipython",
    "version": 3
   },
   "file_extension": ".py",
   "mimetype": "text/x-python",
   "name": "python",
   "nbconvert_exporter": "python",
   "pygments_lexer": "ipython3",
   "version": "3.6.0"
  }
 },
 "nbformat": 4,
 "nbformat_minor": 0
}
